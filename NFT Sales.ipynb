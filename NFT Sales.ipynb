{
 "cells": [
  {
   "cell_type": "code",
   "execution_count": 1,
   "metadata": {},
   "outputs": [],
   "source": [
    "import pandas as pd\n",
    "import numpy as np\n",
    "from sklearn import linear_model\n",
    "import seaborn as sns"
   ]
  },
  {
   "cell_type": "code",
   "execution_count": 2,
   "metadata": {},
   "outputs": [
    {
     "data": {
      "text/plain": [
       "'/home/wsuser/work'"
      ]
     },
     "execution_count": 2,
     "metadata": {},
     "output_type": "execute_result"
    }
   ],
   "source": [
    "pwd"
   ]
  },
  {
   "cell_type": "code",
   "execution_count": 3,
   "metadata": {},
   "outputs": [
    {
     "data": {
      "text/html": [
       "<div>\n",
       "<style scoped>\n",
       "    .dataframe tbody tr th:only-of-type {\n",
       "        vertical-align: middle;\n",
       "    }\n",
       "\n",
       "    .dataframe tbody tr th {\n",
       "        vertical-align: top;\n",
       "    }\n",
       "\n",
       "    .dataframe thead th {\n",
       "        text-align: right;\n",
       "    }\n",
       "</style>\n",
       "<table border=\"1\" class=\"dataframe\">\n",
       "  <thead>\n",
       "    <tr style=\"text-align: right;\">\n",
       "      <th></th>\n",
       "      <th>Date</th>\n",
       "      <th>Sales_USD_cumsum</th>\n",
       "      <th>Number_of_Sales_cumsum</th>\n",
       "      <th>Active_Market_Wallets_cumsum</th>\n",
       "      <th>Primary_Sales_cumsum</th>\n",
       "      <th>Secondary_Sales_cumsum</th>\n",
       "      <th>AverageUSD_cum</th>\n",
       "      <th>Sales_USD</th>\n",
       "      <th>Number_of_Sales</th>\n",
       "      <th>Active_Market_Wallets</th>\n",
       "      <th>Primary_Sales</th>\n",
       "    </tr>\n",
       "  </thead>\n",
       "  <tbody>\n",
       "    <tr>\n",
       "      <th>0</th>\n",
       "      <td>2017-06-22</td>\n",
       "      <td>0.00</td>\n",
       "      <td>0</td>\n",
       "      <td>0.0</td>\n",
       "      <td>0</td>\n",
       "      <td>NaN</td>\n",
       "      <td>NaN</td>\n",
       "      <td>NaN</td>\n",
       "      <td>NaN</td>\n",
       "      <td>NaN</td>\n",
       "      <td>NaN</td>\n",
       "    </tr>\n",
       "    <tr>\n",
       "      <th>1</th>\n",
       "      <td>2017-06-23</td>\n",
       "      <td>1020.30</td>\n",
       "      <td>19</td>\n",
       "      <td>8.0</td>\n",
       "      <td>0</td>\n",
       "      <td>19.0</td>\n",
       "      <td>53.70</td>\n",
       "      <td>1020.30</td>\n",
       "      <td>19.0</td>\n",
       "      <td>8.0</td>\n",
       "      <td>0.0</td>\n",
       "    </tr>\n",
       "    <tr>\n",
       "      <th>2</th>\n",
       "      <td>2017-06-24</td>\n",
       "      <td>2261.14</td>\n",
       "      <td>40</td>\n",
       "      <td>21.0</td>\n",
       "      <td>0</td>\n",
       "      <td>21.0</td>\n",
       "      <td>56.53</td>\n",
       "      <td>1240.84</td>\n",
       "      <td>21.0</td>\n",
       "      <td>13.0</td>\n",
       "      <td>0.0</td>\n",
       "    </tr>\n",
       "    <tr>\n",
       "      <th>3</th>\n",
       "      <td>2017-06-25</td>\n",
       "      <td>2778.69</td>\n",
       "      <td>53</td>\n",
       "      <td>28.0</td>\n",
       "      <td>0</td>\n",
       "      <td>13.0</td>\n",
       "      <td>52.43</td>\n",
       "      <td>517.55</td>\n",
       "      <td>13.0</td>\n",
       "      <td>7.0</td>\n",
       "      <td>0.0</td>\n",
       "    </tr>\n",
       "    <tr>\n",
       "      <th>4</th>\n",
       "      <td>2017-06-26</td>\n",
       "      <td>3203.32</td>\n",
       "      <td>67</td>\n",
       "      <td>34.0</td>\n",
       "      <td>0</td>\n",
       "      <td>14.0</td>\n",
       "      <td>47.81</td>\n",
       "      <td>424.63</td>\n",
       "      <td>14.0</td>\n",
       "      <td>6.0</td>\n",
       "      <td>0.0</td>\n",
       "    </tr>\n",
       "  </tbody>\n",
       "</table>\n",
       "</div>"
      ],
      "text/plain": [
       "         Date  Sales_USD_cumsum  Number_of_Sales_cumsum  \\\n",
       "0  2017-06-22              0.00                       0   \n",
       "1  2017-06-23           1020.30                      19   \n",
       "2  2017-06-24           2261.14                      40   \n",
       "3  2017-06-25           2778.69                      53   \n",
       "4  2017-06-26           3203.32                      67   \n",
       "\n",
       "   Active_Market_Wallets_cumsum  Primary_Sales_cumsum  Secondary_Sales_cumsum  \\\n",
       "0                           0.0                     0                     NaN   \n",
       "1                           8.0                     0                    19.0   \n",
       "2                          21.0                     0                    21.0   \n",
       "3                          28.0                     0                    13.0   \n",
       "4                          34.0                     0                    14.0   \n",
       "\n",
       "   AverageUSD_cum  Sales_USD  Number_of_Sales  Active_Market_Wallets  \\\n",
       "0             NaN        NaN              NaN                    NaN   \n",
       "1           53.70    1020.30             19.0                    8.0   \n",
       "2           56.53    1240.84             21.0                   13.0   \n",
       "3           52.43     517.55             13.0                    7.0   \n",
       "4           47.81     424.63             14.0                    6.0   \n",
       "\n",
       "   Primary_Sales  \n",
       "0            NaN  \n",
       "1            0.0  \n",
       "2            0.0  \n",
       "3            0.0  \n",
       "4            0.0  "
      ]
     },
     "execution_count": 3,
     "metadata": {},
     "output_type": "execute_result"
    }
   ],
   "source": [
    "import os, types\n",
    "import pandas as pd\n",
    "from botocore.client import Config\n",
    "import ibm_boto3\n",
    "\n",
    "def __iter__(self): return 0\n",
    "\n",
    "# @hidden_cell\n",
    "# The following code accesses a file in your IBM Cloud Object Storage. It includes your credentials.\n",
    "# You might want to remove those credentials before you share the notebook.\n",
    "client_11e2c12b890445dc88de6b1cc18e27d0 = ibm_boto3.client(service_name='s3',\n",
    "    ibm_api_key_id='8LroDiIvacCkB21uoNYN0Up03JuE0oaM7x8y7badPPrC',\n",
    "    ibm_auth_endpoint=\"https://iam.cloud.ibm.com/oidc/token\",\n",
    "    config=Config(signature_version='oauth'),\n",
    "    endpoint_url='https://s3.private.us.cloud-object-storage.appdomain.cloud')\n",
    "\n",
    "body = client_11e2c12b890445dc88de6b1cc18e27d0.get_object(Bucket='nftsalesanalytics-donotdelete-pr-hapwycfiwmwvwu',Key='NFT_Sales.csv')['Body']\n",
    "# add missing __iter__ method, so pandas accepts body as file-like object\n",
    "if not hasattr(body, \"__iter__\"): body.__iter__ = types.MethodType( __iter__, body )\n",
    "\n",
    "df= pd.read_csv(body)\n",
    "df.head()\n"
   ]
  },
  {
   "cell_type": "code",
   "execution_count": 4,
   "metadata": {},
   "outputs": [
    {
     "data": {
      "text/plain": [
       "Date                            0\n",
       "Sales_USD_cumsum                0\n",
       "Number_of_Sales_cumsum          0\n",
       "Active_Market_Wallets_cumsum    8\n",
       "Primary_Sales_cumsum            0\n",
       "Secondary_Sales_cumsum          1\n",
       "AverageUSD_cum                  1\n",
       "Sales_USD                       1\n",
       "Number_of_Sales                 1\n",
       "Active_Market_Wallets           9\n",
       "Primary_Sales                   1\n",
       "dtype: int64"
      ]
     },
     "execution_count": 4,
     "metadata": {},
     "output_type": "execute_result"
    }
   ],
   "source": [
    "df.isnull().sum()"
   ]
  },
  {
   "cell_type": "code",
   "execution_count": 5,
   "metadata": {},
   "outputs": [],
   "source": [
    "df['Active_Market_Wallets_cumsum'] = df['Active_Market_Wallets_cumsum'].fillna(df['Active_Market_Wallets_cumsum'].mean())\n",
    "df['Active_Market_Wallets'] = df['Active_Market_Wallets'].fillna(df['Active_Market_Wallets'].mean())\n",
    "df = df.fillna(0)"
   ]
  },
  {
   "cell_type": "code",
   "execution_count": 6,
   "metadata": {},
   "outputs": [
    {
     "data": {
      "text/plain": [
       "Date                            0\n",
       "Sales_USD_cumsum                0\n",
       "Number_of_Sales_cumsum          0\n",
       "Active_Market_Wallets_cumsum    0\n",
       "Primary_Sales_cumsum            0\n",
       "Secondary_Sales_cumsum          0\n",
       "AverageUSD_cum                  0\n",
       "Sales_USD                       0\n",
       "Number_of_Sales                 0\n",
       "Active_Market_Wallets           0\n",
       "Primary_Sales                   0\n",
       "dtype: int64"
      ]
     },
     "execution_count": 6,
     "metadata": {},
     "output_type": "execute_result"
    }
   ],
   "source": [
    "df.isnull().sum()"
   ]
  },
  {
   "cell_type": "code",
   "execution_count": 7,
   "metadata": {},
   "outputs": [
    {
     "data": {
      "text/html": [
       "<div>\n",
       "<style scoped>\n",
       "    .dataframe tbody tr th:only-of-type {\n",
       "        vertical-align: middle;\n",
       "    }\n",
       "\n",
       "    .dataframe tbody tr th {\n",
       "        vertical-align: top;\n",
       "    }\n",
       "\n",
       "    .dataframe thead th {\n",
       "        text-align: right;\n",
       "    }\n",
       "</style>\n",
       "<table border=\"1\" class=\"dataframe\">\n",
       "  <thead>\n",
       "    <tr style=\"text-align: right;\">\n",
       "      <th></th>\n",
       "      <th>Date</th>\n",
       "      <th>Sales_USD_cumsum</th>\n",
       "      <th>Number_of_Sales_cumsum</th>\n",
       "      <th>Active_Market_Wallets_cumsum</th>\n",
       "      <th>Primary_Sales_cumsum</th>\n",
       "      <th>Secondary_Sales_cumsum</th>\n",
       "      <th>AverageUSD_cum</th>\n",
       "      <th>Sales_USD</th>\n",
       "      <th>Number_of_Sales</th>\n",
       "      <th>Active_Market_Wallets</th>\n",
       "      <th>Primary_Sales</th>\n",
       "    </tr>\n",
       "  </thead>\n",
       "  <tbody>\n",
       "    <tr>\n",
       "      <th>0</th>\n",
       "      <td>2017-06-22</td>\n",
       "      <td>0.00</td>\n",
       "      <td>0</td>\n",
       "      <td>0.0</td>\n",
       "      <td>0</td>\n",
       "      <td>0.0</td>\n",
       "      <td>0.00</td>\n",
       "      <td>0.00</td>\n",
       "      <td>0.0</td>\n",
       "      <td>502.875391</td>\n",
       "      <td>0.0</td>\n",
       "    </tr>\n",
       "    <tr>\n",
       "      <th>1</th>\n",
       "      <td>2017-06-23</td>\n",
       "      <td>1020.30</td>\n",
       "      <td>19</td>\n",
       "      <td>8.0</td>\n",
       "      <td>0</td>\n",
       "      <td>19.0</td>\n",
       "      <td>53.70</td>\n",
       "      <td>1020.30</td>\n",
       "      <td>19.0</td>\n",
       "      <td>8.000000</td>\n",
       "      <td>0.0</td>\n",
       "    </tr>\n",
       "    <tr>\n",
       "      <th>2</th>\n",
       "      <td>2017-06-24</td>\n",
       "      <td>2261.14</td>\n",
       "      <td>40</td>\n",
       "      <td>21.0</td>\n",
       "      <td>0</td>\n",
       "      <td>21.0</td>\n",
       "      <td>56.53</td>\n",
       "      <td>1240.84</td>\n",
       "      <td>21.0</td>\n",
       "      <td>13.000000</td>\n",
       "      <td>0.0</td>\n",
       "    </tr>\n",
       "    <tr>\n",
       "      <th>3</th>\n",
       "      <td>2017-06-25</td>\n",
       "      <td>2778.69</td>\n",
       "      <td>53</td>\n",
       "      <td>28.0</td>\n",
       "      <td>0</td>\n",
       "      <td>13.0</td>\n",
       "      <td>52.43</td>\n",
       "      <td>517.55</td>\n",
       "      <td>13.0</td>\n",
       "      <td>7.000000</td>\n",
       "      <td>0.0</td>\n",
       "    </tr>\n",
       "    <tr>\n",
       "      <th>4</th>\n",
       "      <td>2017-06-26</td>\n",
       "      <td>3203.32</td>\n",
       "      <td>67</td>\n",
       "      <td>34.0</td>\n",
       "      <td>0</td>\n",
       "      <td>14.0</td>\n",
       "      <td>47.81</td>\n",
       "      <td>424.63</td>\n",
       "      <td>14.0</td>\n",
       "      <td>6.000000</td>\n",
       "      <td>0.0</td>\n",
       "    </tr>\n",
       "    <tr>\n",
       "      <th>5</th>\n",
       "      <td>2017-06-27</td>\n",
       "      <td>5296.23</td>\n",
       "      <td>100</td>\n",
       "      <td>44.0</td>\n",
       "      <td>0</td>\n",
       "      <td>33.0</td>\n",
       "      <td>52.96</td>\n",
       "      <td>2092.91</td>\n",
       "      <td>33.0</td>\n",
       "      <td>10.000000</td>\n",
       "      <td>0.0</td>\n",
       "    </tr>\n",
       "    <tr>\n",
       "      <th>6</th>\n",
       "      <td>2017-06-28</td>\n",
       "      <td>6543.49</td>\n",
       "      <td>115</td>\n",
       "      <td>46.0</td>\n",
       "      <td>0</td>\n",
       "      <td>15.0</td>\n",
       "      <td>56.90</td>\n",
       "      <td>1247.26</td>\n",
       "      <td>15.0</td>\n",
       "      <td>2.000000</td>\n",
       "      <td>0.0</td>\n",
       "    </tr>\n",
       "    <tr>\n",
       "      <th>7</th>\n",
       "      <td>2017-06-29</td>\n",
       "      <td>8729.21</td>\n",
       "      <td>153</td>\n",
       "      <td>49.0</td>\n",
       "      <td>0</td>\n",
       "      <td>38.0</td>\n",
       "      <td>57.05</td>\n",
       "      <td>2185.72</td>\n",
       "      <td>38.0</td>\n",
       "      <td>3.000000</td>\n",
       "      <td>0.0</td>\n",
       "    </tr>\n",
       "    <tr>\n",
       "      <th>8</th>\n",
       "      <td>2017-06-30</td>\n",
       "      <td>10437.36</td>\n",
       "      <td>174</td>\n",
       "      <td>53.0</td>\n",
       "      <td>0</td>\n",
       "      <td>21.0</td>\n",
       "      <td>59.98</td>\n",
       "      <td>1708.15</td>\n",
       "      <td>21.0</td>\n",
       "      <td>4.000000</td>\n",
       "      <td>0.0</td>\n",
       "    </tr>\n",
       "    <tr>\n",
       "      <th>9</th>\n",
       "      <td>2017-07-01</td>\n",
       "      <td>13578.16</td>\n",
       "      <td>184</td>\n",
       "      <td>55.0</td>\n",
       "      <td>0</td>\n",
       "      <td>10.0</td>\n",
       "      <td>73.79</td>\n",
       "      <td>3140.80</td>\n",
       "      <td>10.0</td>\n",
       "      <td>2.000000</td>\n",
       "      <td>0.0</td>\n",
       "    </tr>\n",
       "  </tbody>\n",
       "</table>\n",
       "</div>"
      ],
      "text/plain": [
       "         Date  Sales_USD_cumsum  Number_of_Sales_cumsum  \\\n",
       "0  2017-06-22              0.00                       0   \n",
       "1  2017-06-23           1020.30                      19   \n",
       "2  2017-06-24           2261.14                      40   \n",
       "3  2017-06-25           2778.69                      53   \n",
       "4  2017-06-26           3203.32                      67   \n",
       "5  2017-06-27           5296.23                     100   \n",
       "6  2017-06-28           6543.49                     115   \n",
       "7  2017-06-29           8729.21                     153   \n",
       "8  2017-06-30          10437.36                     174   \n",
       "9  2017-07-01          13578.16                     184   \n",
       "\n",
       "   Active_Market_Wallets_cumsum  Primary_Sales_cumsum  Secondary_Sales_cumsum  \\\n",
       "0                           0.0                     0                     0.0   \n",
       "1                           8.0                     0                    19.0   \n",
       "2                          21.0                     0                    21.0   \n",
       "3                          28.0                     0                    13.0   \n",
       "4                          34.0                     0                    14.0   \n",
       "5                          44.0                     0                    33.0   \n",
       "6                          46.0                     0                    15.0   \n",
       "7                          49.0                     0                    38.0   \n",
       "8                          53.0                     0                    21.0   \n",
       "9                          55.0                     0                    10.0   \n",
       "\n",
       "   AverageUSD_cum  Sales_USD  Number_of_Sales  Active_Market_Wallets  \\\n",
       "0            0.00       0.00              0.0             502.875391   \n",
       "1           53.70    1020.30             19.0               8.000000   \n",
       "2           56.53    1240.84             21.0              13.000000   \n",
       "3           52.43     517.55             13.0               7.000000   \n",
       "4           47.81     424.63             14.0               6.000000   \n",
       "5           52.96    2092.91             33.0              10.000000   \n",
       "6           56.90    1247.26             15.0               2.000000   \n",
       "7           57.05    2185.72             38.0               3.000000   \n",
       "8           59.98    1708.15             21.0               4.000000   \n",
       "9           73.79    3140.80             10.0               2.000000   \n",
       "\n",
       "   Primary_Sales  \n",
       "0            0.0  \n",
       "1            0.0  \n",
       "2            0.0  \n",
       "3            0.0  \n",
       "4            0.0  \n",
       "5            0.0  \n",
       "6            0.0  \n",
       "7            0.0  \n",
       "8            0.0  \n",
       "9            0.0  "
      ]
     },
     "execution_count": 7,
     "metadata": {},
     "output_type": "execute_result"
    }
   ],
   "source": [
    "df.head(10)"
   ]
  },
  {
   "cell_type": "code",
   "execution_count": 8,
   "metadata": {},
   "outputs": [
    {
     "data": {
      "text/html": [
       "<div>\n",
       "<style scoped>\n",
       "    .dataframe tbody tr th:only-of-type {\n",
       "        vertical-align: middle;\n",
       "    }\n",
       "\n",
       "    .dataframe tbody tr th {\n",
       "        vertical-align: top;\n",
       "    }\n",
       "\n",
       "    .dataframe thead th {\n",
       "        text-align: right;\n",
       "    }\n",
       "</style>\n",
       "<table border=\"1\" class=\"dataframe\">\n",
       "  <thead>\n",
       "    <tr style=\"text-align: right;\">\n",
       "      <th></th>\n",
       "      <th>Date</th>\n",
       "      <th>Sales_USD_cumsum</th>\n",
       "      <th>Number_of_Sales_cumsum</th>\n",
       "      <th>Active_Market_Wallets_cumsum</th>\n",
       "      <th>Primary_Sales_cumsum</th>\n",
       "      <th>Secondary_Sales_cumsum</th>\n",
       "      <th>AverageUSD_cum</th>\n",
       "      <th>Sales_USD</th>\n",
       "      <th>Number_of_Sales</th>\n",
       "      <th>Active_Market_Wallets</th>\n",
       "      <th>Primary_Sales</th>\n",
       "    </tr>\n",
       "  </thead>\n",
       "  <tbody>\n",
       "    <tr>\n",
       "      <th>1596</th>\n",
       "      <td>2021-11-03</td>\n",
       "      <td>9.812304e+09</td>\n",
       "      <td>10665664</td>\n",
       "      <td>803665.000000</td>\n",
       "      <td>6387576</td>\n",
       "      <td>1443.0</td>\n",
       "      <td>919.99</td>\n",
       "      <td>4.309933e+07</td>\n",
       "      <td>23465.0</td>\n",
       "      <td>3308.000000</td>\n",
       "      <td>22022.0</td>\n",
       "    </tr>\n",
       "    <tr>\n",
       "      <th>1597</th>\n",
       "      <td>2021-11-04</td>\n",
       "      <td>9.859177e+09</td>\n",
       "      <td>10678772</td>\n",
       "      <td>803092.000000</td>\n",
       "      <td>6392713</td>\n",
       "      <td>7971.0</td>\n",
       "      <td>923.25</td>\n",
       "      <td>4.687265e+07</td>\n",
       "      <td>13108.0</td>\n",
       "      <td>-573.000000</td>\n",
       "      <td>5137.0</td>\n",
       "    </tr>\n",
       "    <tr>\n",
       "      <th>1598</th>\n",
       "      <td>2021-11-05</td>\n",
       "      <td>9.890102e+09</td>\n",
       "      <td>10691247</td>\n",
       "      <td>155847.829161</td>\n",
       "      <td>6398169</td>\n",
       "      <td>7019.0</td>\n",
       "      <td>925.07</td>\n",
       "      <td>3.092464e+07</td>\n",
       "      <td>12475.0</td>\n",
       "      <td>502.875391</td>\n",
       "      <td>5456.0</td>\n",
       "    </tr>\n",
       "    <tr>\n",
       "      <th>1599</th>\n",
       "      <td>2021-11-06</td>\n",
       "      <td>9.948558e+09</td>\n",
       "      <td>10809535</td>\n",
       "      <td>155847.829161</td>\n",
       "      <td>6472314</td>\n",
       "      <td>44143.0</td>\n",
       "      <td>920.35</td>\n",
       "      <td>5.845599e+07</td>\n",
       "      <td>118288.0</td>\n",
       "      <td>502.875391</td>\n",
       "      <td>74145.0</td>\n",
       "    </tr>\n",
       "    <tr>\n",
       "      <th>1600</th>\n",
       "      <td>2021-11-07</td>\n",
       "      <td>1.001097e+10</td>\n",
       "      <td>10853882</td>\n",
       "      <td>155847.829161</td>\n",
       "      <td>6496920</td>\n",
       "      <td>19741.0</td>\n",
       "      <td>922.34</td>\n",
       "      <td>6.240829e+07</td>\n",
       "      <td>44347.0</td>\n",
       "      <td>502.875391</td>\n",
       "      <td>24606.0</td>\n",
       "    </tr>\n",
       "    <tr>\n",
       "      <th>1601</th>\n",
       "      <td>2021-11-08</td>\n",
       "      <td>1.008803e+10</td>\n",
       "      <td>10913146</td>\n",
       "      <td>155847.829161</td>\n",
       "      <td>6541355</td>\n",
       "      <td>14829.0</td>\n",
       "      <td>924.39</td>\n",
       "      <td>7.706698e+07</td>\n",
       "      <td>59264.0</td>\n",
       "      <td>502.875391</td>\n",
       "      <td>44435.0</td>\n",
       "    </tr>\n",
       "    <tr>\n",
       "      <th>1602</th>\n",
       "      <td>2021-11-09</td>\n",
       "      <td>1.014001e+10</td>\n",
       "      <td>10964025</td>\n",
       "      <td>155847.829161</td>\n",
       "      <td>6573511</td>\n",
       "      <td>18723.0</td>\n",
       "      <td>924.84</td>\n",
       "      <td>5.197508e+07</td>\n",
       "      <td>50879.0</td>\n",
       "      <td>502.875391</td>\n",
       "      <td>32156.0</td>\n",
       "    </tr>\n",
       "    <tr>\n",
       "      <th>1603</th>\n",
       "      <td>2021-11-10</td>\n",
       "      <td>1.019902e+10</td>\n",
       "      <td>11008847</td>\n",
       "      <td>155847.829161</td>\n",
       "      <td>6601205</td>\n",
       "      <td>17128.0</td>\n",
       "      <td>926.44</td>\n",
       "      <td>5.901034e+07</td>\n",
       "      <td>44822.0</td>\n",
       "      <td>502.875391</td>\n",
       "      <td>27694.0</td>\n",
       "    </tr>\n",
       "    <tr>\n",
       "      <th>1604</th>\n",
       "      <td>2021-11-11</td>\n",
       "      <td>1.023456e+10</td>\n",
       "      <td>11022782</td>\n",
       "      <td>155847.829161</td>\n",
       "      <td>6609013</td>\n",
       "      <td>6127.0</td>\n",
       "      <td>928.49</td>\n",
       "      <td>3.554317e+07</td>\n",
       "      <td>13935.0</td>\n",
       "      <td>502.875391</td>\n",
       "      <td>7808.0</td>\n",
       "    </tr>\n",
       "    <tr>\n",
       "      <th>1605</th>\n",
       "      <td>2021-11-12</td>\n",
       "      <td>1.022836e+10</td>\n",
       "      <td>11020587</td>\n",
       "      <td>155847.829161</td>\n",
       "      <td>6607842</td>\n",
       "      <td>-1024.0</td>\n",
       "      <td>928.11</td>\n",
       "      <td>-6.196720e+06</td>\n",
       "      <td>-2195.0</td>\n",
       "      <td>502.875391</td>\n",
       "      <td>-1171.0</td>\n",
       "    </tr>\n",
       "  </tbody>\n",
       "</table>\n",
       "</div>"
      ],
      "text/plain": [
       "            Date  Sales_USD_cumsum  Number_of_Sales_cumsum  \\\n",
       "1596  2021-11-03      9.812304e+09                10665664   \n",
       "1597  2021-11-04      9.859177e+09                10678772   \n",
       "1598  2021-11-05      9.890102e+09                10691247   \n",
       "1599  2021-11-06      9.948558e+09                10809535   \n",
       "1600  2021-11-07      1.001097e+10                10853882   \n",
       "1601  2021-11-08      1.008803e+10                10913146   \n",
       "1602  2021-11-09      1.014001e+10                10964025   \n",
       "1603  2021-11-10      1.019902e+10                11008847   \n",
       "1604  2021-11-11      1.023456e+10                11022782   \n",
       "1605  2021-11-12      1.022836e+10                11020587   \n",
       "\n",
       "      Active_Market_Wallets_cumsum  Primary_Sales_cumsum  \\\n",
       "1596                 803665.000000               6387576   \n",
       "1597                 803092.000000               6392713   \n",
       "1598                 155847.829161               6398169   \n",
       "1599                 155847.829161               6472314   \n",
       "1600                 155847.829161               6496920   \n",
       "1601                 155847.829161               6541355   \n",
       "1602                 155847.829161               6573511   \n",
       "1603                 155847.829161               6601205   \n",
       "1604                 155847.829161               6609013   \n",
       "1605                 155847.829161               6607842   \n",
       "\n",
       "      Secondary_Sales_cumsum  AverageUSD_cum     Sales_USD  Number_of_Sales  \\\n",
       "1596                  1443.0          919.99  4.309933e+07          23465.0   \n",
       "1597                  7971.0          923.25  4.687265e+07          13108.0   \n",
       "1598                  7019.0          925.07  3.092464e+07          12475.0   \n",
       "1599                 44143.0          920.35  5.845599e+07         118288.0   \n",
       "1600                 19741.0          922.34  6.240829e+07          44347.0   \n",
       "1601                 14829.0          924.39  7.706698e+07          59264.0   \n",
       "1602                 18723.0          924.84  5.197508e+07          50879.0   \n",
       "1603                 17128.0          926.44  5.901034e+07          44822.0   \n",
       "1604                  6127.0          928.49  3.554317e+07          13935.0   \n",
       "1605                 -1024.0          928.11 -6.196720e+06          -2195.0   \n",
       "\n",
       "      Active_Market_Wallets  Primary_Sales  \n",
       "1596            3308.000000        22022.0  \n",
       "1597            -573.000000         5137.0  \n",
       "1598             502.875391         5456.0  \n",
       "1599             502.875391        74145.0  \n",
       "1600             502.875391        24606.0  \n",
       "1601             502.875391        44435.0  \n",
       "1602             502.875391        32156.0  \n",
       "1603             502.875391        27694.0  \n",
       "1604             502.875391         7808.0  \n",
       "1605             502.875391        -1171.0  "
      ]
     },
     "execution_count": 8,
     "metadata": {},
     "output_type": "execute_result"
    }
   ],
   "source": [
    "df.tail(10)"
   ]
  },
  {
   "cell_type": "code",
   "execution_count": 9,
   "metadata": {},
   "outputs": [
    {
     "data": {
      "text/html": [
       "<div>\n",
       "<style scoped>\n",
       "    .dataframe tbody tr th:only-of-type {\n",
       "        vertical-align: middle;\n",
       "    }\n",
       "\n",
       "    .dataframe tbody tr th {\n",
       "        vertical-align: top;\n",
       "    }\n",
       "\n",
       "    .dataframe thead th {\n",
       "        text-align: right;\n",
       "    }\n",
       "</style>\n",
       "<table border=\"1\" class=\"dataframe\">\n",
       "  <thead>\n",
       "    <tr style=\"text-align: right;\">\n",
       "      <th></th>\n",
       "      <th>Active_Market_Wallets</th>\n",
       "      <th>Primary_Sales</th>\n",
       "      <th>Secondary_Sales_cumsum</th>\n",
       "      <th>AverageUSD_cum</th>\n",
       "    </tr>\n",
       "  </thead>\n",
       "  <tbody>\n",
       "    <tr>\n",
       "      <th>0</th>\n",
       "      <td>502.875391</td>\n",
       "      <td>0.0</td>\n",
       "      <td>0.0</td>\n",
       "      <td>0.00</td>\n",
       "    </tr>\n",
       "    <tr>\n",
       "      <th>1</th>\n",
       "      <td>8.000000</td>\n",
       "      <td>0.0</td>\n",
       "      <td>19.0</td>\n",
       "      <td>53.70</td>\n",
       "    </tr>\n",
       "    <tr>\n",
       "      <th>2</th>\n",
       "      <td>13.000000</td>\n",
       "      <td>0.0</td>\n",
       "      <td>21.0</td>\n",
       "      <td>56.53</td>\n",
       "    </tr>\n",
       "    <tr>\n",
       "      <th>3</th>\n",
       "      <td>7.000000</td>\n",
       "      <td>0.0</td>\n",
       "      <td>13.0</td>\n",
       "      <td>52.43</td>\n",
       "    </tr>\n",
       "    <tr>\n",
       "      <th>4</th>\n",
       "      <td>6.000000</td>\n",
       "      <td>0.0</td>\n",
       "      <td>14.0</td>\n",
       "      <td>47.81</td>\n",
       "    </tr>\n",
       "    <tr>\n",
       "      <th>...</th>\n",
       "      <td>...</td>\n",
       "      <td>...</td>\n",
       "      <td>...</td>\n",
       "      <td>...</td>\n",
       "    </tr>\n",
       "    <tr>\n",
       "      <th>1601</th>\n",
       "      <td>502.875391</td>\n",
       "      <td>44435.0</td>\n",
       "      <td>14829.0</td>\n",
       "      <td>924.39</td>\n",
       "    </tr>\n",
       "    <tr>\n",
       "      <th>1602</th>\n",
       "      <td>502.875391</td>\n",
       "      <td>32156.0</td>\n",
       "      <td>18723.0</td>\n",
       "      <td>924.84</td>\n",
       "    </tr>\n",
       "    <tr>\n",
       "      <th>1603</th>\n",
       "      <td>502.875391</td>\n",
       "      <td>27694.0</td>\n",
       "      <td>17128.0</td>\n",
       "      <td>926.44</td>\n",
       "    </tr>\n",
       "    <tr>\n",
       "      <th>1604</th>\n",
       "      <td>502.875391</td>\n",
       "      <td>7808.0</td>\n",
       "      <td>6127.0</td>\n",
       "      <td>928.49</td>\n",
       "    </tr>\n",
       "    <tr>\n",
       "      <th>1605</th>\n",
       "      <td>502.875391</td>\n",
       "      <td>-1171.0</td>\n",
       "      <td>-1024.0</td>\n",
       "      <td>928.11</td>\n",
       "    </tr>\n",
       "  </tbody>\n",
       "</table>\n",
       "<p>1606 rows × 4 columns</p>\n",
       "</div>"
      ],
      "text/plain": [
       "      Active_Market_Wallets  Primary_Sales  Secondary_Sales_cumsum  \\\n",
       "0                502.875391            0.0                     0.0   \n",
       "1                  8.000000            0.0                    19.0   \n",
       "2                 13.000000            0.0                    21.0   \n",
       "3                  7.000000            0.0                    13.0   \n",
       "4                  6.000000            0.0                    14.0   \n",
       "...                     ...            ...                     ...   \n",
       "1601             502.875391        44435.0                 14829.0   \n",
       "1602             502.875391        32156.0                 18723.0   \n",
       "1603             502.875391        27694.0                 17128.0   \n",
       "1604             502.875391         7808.0                  6127.0   \n",
       "1605             502.875391        -1171.0                 -1024.0   \n",
       "\n",
       "      AverageUSD_cum  \n",
       "0               0.00  \n",
       "1              53.70  \n",
       "2              56.53  \n",
       "3              52.43  \n",
       "4              47.81  \n",
       "...              ...  \n",
       "1601          924.39  \n",
       "1602          924.84  \n",
       "1603          926.44  \n",
       "1604          928.49  \n",
       "1605          928.11  \n",
       "\n",
       "[1606 rows x 4 columns]"
      ]
     },
     "execution_count": 9,
     "metadata": {},
     "output_type": "execute_result"
    }
   ],
   "source": [
    "df1=df.iloc[:,[9,10,5,6]]\n",
    "df1"
   ]
  },
  {
   "cell_type": "code",
   "execution_count": 10,
   "metadata": {},
   "outputs": [],
   "source": [
    "x=df.drop(['AverageUSD_cum','Date','Sales_USD_cumsum'],axis=1)\n",
    "y=df['AverageUSD_cum']"
   ]
  },
  {
   "cell_type": "code",
   "execution_count": 11,
   "metadata": {},
   "outputs": [],
   "source": [
    "from sklearn.model_selection import train_test_split\n",
    "x_train,x_test,y_train,y_test=train_test_split(x,y,test_size=0.33,random_state=42)"
   ]
  },
  {
   "cell_type": "code",
   "execution_count": 12,
   "metadata": {},
   "outputs": [
    {
     "data": {
      "text/plain": [
       "((1076, 8), (530, 8))"
      ]
     },
     "execution_count": 12,
     "metadata": {},
     "output_type": "execute_result"
    }
   ],
   "source": [
    "x_train.shape,x_test.shape"
   ]
  },
  {
   "cell_type": "code",
   "execution_count": 30,
   "metadata": {},
   "outputs": [
    {
     "name": "stdout",
     "output_type": "stream",
     "text": [
      "Collecting category_encoders\n",
      "  Downloading category_encoders-2.5.1.post0-py2.py3-none-any.whl (72 kB)\n",
      "\u001b[K     |████████████████████████████████| 72 kB 1.7 MB/s  eta 0:00:01\n",
      "\u001b[?25hRequirement already satisfied: patsy>=0.5.1 in /opt/conda/envs/Python-3.9/lib/python3.9/site-packages (from category_encoders) (0.5.2)\n",
      "Requirement already satisfied: numpy>=1.14.0 in /opt/conda/envs/Python-3.9/lib/python3.9/site-packages (from category_encoders) (1.20.3)\n",
      "Requirement already satisfied: statsmodels>=0.9.0 in /opt/conda/envs/Python-3.9/lib/python3.9/site-packages (from category_encoders) (0.12.2)\n",
      "Requirement already satisfied: pandas>=1.0.5 in /opt/conda/envs/Python-3.9/lib/python3.9/site-packages (from category_encoders) (1.3.4)\n",
      "Requirement already satisfied: scikit-learn>=0.20.0 in /opt/conda/envs/Python-3.9/lib/python3.9/site-packages (from category_encoders) (1.0.2)\n",
      "Requirement already satisfied: scipy>=1.0.0 in /opt/conda/envs/Python-3.9/lib/python3.9/site-packages (from category_encoders) (1.7.3)\n",
      "Requirement already satisfied: python-dateutil>=2.7.3 in /opt/conda/envs/Python-3.9/lib/python3.9/site-packages (from pandas>=1.0.5->category_encoders) (2.8.2)\n",
      "Requirement already satisfied: pytz>=2017.3 in /opt/conda/envs/Python-3.9/lib/python3.9/site-packages (from pandas>=1.0.5->category_encoders) (2021.3)\n",
      "Requirement already satisfied: six in /opt/conda/envs/Python-3.9/lib/python3.9/site-packages (from patsy>=0.5.1->category_encoders) (1.15.0)\n",
      "Requirement already satisfied: threadpoolctl>=2.0.0 in /opt/conda/envs/Python-3.9/lib/python3.9/site-packages (from scikit-learn>=0.20.0->category_encoders) (2.2.0)\n",
      "Requirement already satisfied: joblib>=0.11 in /opt/conda/envs/Python-3.9/lib/python3.9/site-packages (from scikit-learn>=0.20.0->category_encoders) (0.17.0)\n",
      "Installing collected packages: category-encoders\n",
      "Successfully installed category-encoders-2.5.1.post0\n",
      "Note: you may need to restart the kernel to use updated packages.\n"
     ]
    }
   ],
   "source": [
    "pip install category_encoders"
   ]
  },
  {
   "cell_type": "code",
   "execution_count": 31,
   "metadata": {},
   "outputs": [],
   "source": [
    "import category_encoders as ce\n",
    "encoder=ce.OrdinalEncoder(cols=['Active_Market_Wallets','Primary_Sales','Secondary_Sales_cumsum'])\n",
    "x_train=encoder.fit_transform(x_train)\n",
    "x_test=encoder.transform(x_test)"
   ]
  },
  {
   "cell_type": "code",
   "execution_count": 32,
   "metadata": {},
   "outputs": [
    {
     "data": {
      "text/html": [
       "<div>\n",
       "<style scoped>\n",
       "    .dataframe tbody tr th:only-of-type {\n",
       "        vertical-align: middle;\n",
       "    }\n",
       "\n",
       "    .dataframe tbody tr th {\n",
       "        vertical-align: top;\n",
       "    }\n",
       "\n",
       "    .dataframe thead th {\n",
       "        text-align: right;\n",
       "    }\n",
       "</style>\n",
       "<table border=\"1\" class=\"dataframe\">\n",
       "  <thead>\n",
       "    <tr style=\"text-align: right;\">\n",
       "      <th></th>\n",
       "      <th>Number_of_Sales_cumsum</th>\n",
       "      <th>Active_Market_Wallets_cumsum</th>\n",
       "      <th>Primary_Sales_cumsum</th>\n",
       "      <th>Secondary_Sales_cumsum</th>\n",
       "      <th>Sales_USD</th>\n",
       "      <th>Number_of_Sales</th>\n",
       "      <th>Active_Market_Wallets</th>\n",
       "      <th>Primary_Sales</th>\n",
       "    </tr>\n",
       "  </thead>\n",
       "  <tbody>\n",
       "    <tr>\n",
       "      <th>829</th>\n",
       "      <td>3246910</td>\n",
       "      <td>123838.0</td>\n",
       "      <td>2325117</td>\n",
       "      <td>1</td>\n",
       "      <td>74120.41</td>\n",
       "      <td>2563.0</td>\n",
       "      <td>1</td>\n",
       "      <td>1</td>\n",
       "    </tr>\n",
       "    <tr>\n",
       "      <th>126</th>\n",
       "      <td>958</td>\n",
       "      <td>141.0</td>\n",
       "      <td>0</td>\n",
       "      <td>2</td>\n",
       "      <td>268.92</td>\n",
       "      <td>7.0</td>\n",
       "      <td>2</td>\n",
       "      <td>2</td>\n",
       "    </tr>\n",
       "    <tr>\n",
       "      <th>916</th>\n",
       "      <td>3762801</td>\n",
       "      <td>135962.0</td>\n",
       "      <td>2570905</td>\n",
       "      <td>3</td>\n",
       "      <td>64775.42</td>\n",
       "      <td>5509.0</td>\n",
       "      <td>3</td>\n",
       "      <td>3</td>\n",
       "    </tr>\n",
       "    <tr>\n",
       "      <th>1187</th>\n",
       "      <td>4886901</td>\n",
       "      <td>177483.0</td>\n",
       "      <td>3127103</td>\n",
       "      <td>4</td>\n",
       "      <td>429816.64</td>\n",
       "      <td>2323.0</td>\n",
       "      <td>4</td>\n",
       "      <td>4</td>\n",
       "    </tr>\n",
       "    <tr>\n",
       "      <th>355</th>\n",
       "      <td>1339986</td>\n",
       "      <td>78339.0</td>\n",
       "      <td>885417</td>\n",
       "      <td>5</td>\n",
       "      <td>36981.38</td>\n",
       "      <td>2903.0</td>\n",
       "      <td>5</td>\n",
       "      <td>5</td>\n",
       "    </tr>\n",
       "  </tbody>\n",
       "</table>\n",
       "</div>"
      ],
      "text/plain": [
       "      Number_of_Sales_cumsum  Active_Market_Wallets_cumsum  \\\n",
       "829                  3246910                      123838.0   \n",
       "126                      958                         141.0   \n",
       "916                  3762801                      135962.0   \n",
       "1187                 4886901                      177483.0   \n",
       "355                  1339986                       78339.0   \n",
       "\n",
       "      Primary_Sales_cumsum  Secondary_Sales_cumsum  Sales_USD  \\\n",
       "829                2325117                       1   74120.41   \n",
       "126                      0                       2     268.92   \n",
       "916                2570905                       3   64775.42   \n",
       "1187               3127103                       4  429816.64   \n",
       "355                 885417                       5   36981.38   \n",
       "\n",
       "      Number_of_Sales  Active_Market_Wallets  Primary_Sales  \n",
       "829            2563.0                      1              1  \n",
       "126               7.0                      2              2  \n",
       "916            5509.0                      3              3  \n",
       "1187           2323.0                      4              4  \n",
       "355            2903.0                      5              5  "
      ]
     },
     "execution_count": 32,
     "metadata": {},
     "output_type": "execute_result"
    }
   ],
   "source": [
    "x_train.head()"
   ]
  },
  {
   "cell_type": "code",
   "execution_count": 33,
   "metadata": {},
   "outputs": [],
   "source": [
    "from sklearn.ensemble import RandomForestRegressor\n",
    "from sklearn.datasets import *"
   ]
  },
  {
   "cell_type": "code",
   "execution_count": 34,
   "metadata": {},
   "outputs": [],
   "source": [
    "x_train,y_train = make_regression(n_features=4, n_informative=2, random_state=0,shuffle=False)\n",
    "model = RandomForestRegressor(max_depth=2,random_state=0)"
   ]
  },
  {
   "cell_type": "code",
   "execution_count": 35,
   "metadata": {},
   "outputs": [
    {
     "data": {
      "text/plain": [
       "RandomForestRegressor(max_depth=2, random_state=0)"
      ]
     },
     "execution_count": 35,
     "metadata": {},
     "output_type": "execute_result"
    }
   ],
   "source": [
    "model.fit(x_train, y_train)"
   ]
  },
  {
   "cell_type": "code",
   "execution_count": 36,
   "metadata": {},
   "outputs": [
    {
     "name": "stdout",
     "output_type": "stream",
     "text": [
      "45 34 34\n"
     ]
    }
   ],
   "source": [
    "val1=int(model.predict([[1,1,1,1]]))\n",
    "val2=int(model.predict([[0,1,0,1]]))\n",
    "val3=int(model.predict([[0,1,1,1]]))\n",
    "print(val1,val2,val3)"
   ]
  },
  {
   "cell_type": "code",
   "execution_count": 37,
   "metadata": {},
   "outputs": [
    {
     "data": {
      "image/png": "[encoded data removed]",
      "text/plain": [
       "<Figure size 432x288 with 1 Axes>"
      ]
     },
     "metadata": {},
     "output_type": "display_data"
    }
   ],
   "source": [
    "import matplotlib.pyplot as plt\n",
    "fig=plt.figure()\n",
    "ax=fig.add_axes([0,0,1,1])\n",
    "ax.axis('equal')\n",
    "l=['model prediction1','model prediction2','model prediction3']\n",
    "s=[val1,val2,val3]\n",
    "ax.pie(s,labels=l,autopct='%1.4f%%')\n",
    "plt.show()"
   ]
  },
  {
   "cell_type": "code",
   "execution_count": 27,
   "metadata": {},
   "outputs": [
    {
     "data": {
      "text/plain": [
       "<matplotlib.collections.PathCollection at 0x7fd80fca4e80>"
      ]
     },
     "execution_count": 27,
     "metadata": {},
     "output_type": "execute_result"
    },
    {
     "data": {
      "image/png": "[encoded data removed]",
      "text/plain": [
       "<Figure size 432x288 with 1 Axes>"
      ]
     },
     "metadata": {
      "needs_background": "light"
     },
     "output_type": "display_data"
    }
   ],
   "source": [
    "plt.xlabel('Number_of_Sales')\n",
    "plt.ylabel('Active_Market_Wallets')\n",
    "plt.scatter(df.Number_of_Sales,df.Active_Market_Wallets,color='blue',marker='*')"
   ]
  },
  {
   "cell_type": "code",
   "execution_count": 28,
   "metadata": {},
   "outputs": [
    {
     "data": {
      "text/plain": [
       "<matplotlib.collections.PathCollection at 0x7fd807c3b220>"
      ]
     },
     "execution_count": 28,
     "metadata": {},
     "output_type": "execute_result"
    },
    {
     "data": {
      "image/png": "[encoded data removed]",
      "text/plain": [
       "<Figure size 432x288 with 1 Axes>"
      ]
     },
     "metadata": {
      "needs_background": "light"
     },
     "output_type": "display_data"
    }
   ],
   "source": [
    "plt.xlabel('Number_of_Sales')\n",
    "plt.ylabel('AverageUSD_cum')\n",
    "plt.scatter(df.Number_of_Sales,df.AverageUSD_cum,color='green',marker='*')"
   ]
  },
  {
   "cell_type": "code",
   "execution_count": 29,
   "metadata": {},
   "outputs": [
    {
     "data": {
      "image/png": "[encoded data removed]",
      "text/plain": [
       "<Figure size 432x288 with 1 Axes>"
      ]
     },
     "metadata": {
      "needs_background": "light"
     },
     "output_type": "display_data"
    }
   ],
   "source": [
    "plt.figure(1)\n",
    "plt.boxplot([df['AverageUSD_cum']])\n",
    "plt.show()"
   ]
  },
  {
   "cell_type": "code",
   "execution_count": 30,
   "metadata": {},
   "outputs": [
    {
     "data": {
      "text/plain": [
       "array([[<AxesSubplot:title={'center':'AverageUSD_cum'}>]], dtype=object)"
      ]
     },
     "execution_count": 30,
     "metadata": {},
     "output_type": "execute_result"
    },
    {
     "data": {
      "image/png": "[encoded data removed]",
      "text/plain": [
       "<Figure size 432x288 with 1 Axes>"
      ]
     },
     "metadata": {
      "needs_background": "light"
     },
     "output_type": "display_data"
    }
   ],
   "source": [
    "df.hist('AverageUSD_cum')"
   ]
  },
  {
   "cell_type": "code",
   "execution_count": 34,
   "metadata": {},
   "outputs": [
    {
     "data": {
      "image/png": "[encoded data removed]",
      "text/plain": [
       "<Figure size 1080x1440 with 1 Axes>"
      ]
     },
     "metadata": {
      "needs_background": "light"
     },
     "output_type": "display_data"
    }
   ],
   "source": [
    "plt.figure(figsize=(15,20))\n",
    "plt.subplot(2,2,1)\n",
    "sns.violinplot(x='Number_of_Sales',y='AverageUSD_cum',data=df)\n",
    "plt.show()"
   ]
  },
  {
   "cell_type": "code",
   "execution_count": 35,
   "metadata": {},
   "outputs": [
    {
     "data": {
      "image/png": "[encoded data removed]",
      "text/plain": [
       "<Figure size 720x504 with 2 Axes>"
      ]
     },
     "metadata": {
      "needs_background": "light"
     },
     "output_type": "display_data"
    }
   ],
   "source": [
    "fig=plt.gcf()\n",
    "fig.set_size_inches(10,7)\n",
    "fig=sns.heatmap(df.corr(),annot=True,cmap='cubehelix',linewidths=1,linecolor='k')"
   ]
  },
  {
   "cell_type": "code",
   "execution_count": 36,
   "metadata": {},
   "outputs": [
    {
     "name": "stderr",
     "output_type": "stream",
     "text": [
      "/opt/conda/envs/Python-3.9/lib/python3.9/site-packages/seaborn/_decorators.py:36: FutureWarning: Pass the following variable as a keyword arg: x. From version 0.12, the only valid positional argument will be `data`, and passing other arguments without an explicit keyword will result in an error or misinterpretation.\n",
      "  warnings.warn(\n",
      "/opt/conda/envs/Python-3.9/lib/python3.9/site-packages/seaborn/_decorators.py:36: FutureWarning: Pass the following variable as a keyword arg: x. From version 0.12, the only valid positional argument will be `data`, and passing other arguments without an explicit keyword will result in an error or misinterpretation.\n",
      "  warnings.warn(\n",
      "/opt/conda/envs/Python-3.9/lib/python3.9/site-packages/seaborn/_decorators.py:36: FutureWarning: Pass the following variable as a keyword arg: x. From version 0.12, the only valid positional argument will be `data`, and passing other arguments without an explicit keyword will result in an error or misinterpretation.\n",
      "  warnings.warn(\n",
      "/opt/conda/envs/Python-3.9/lib/python3.9/site-packages/seaborn/_decorators.py:36: FutureWarning: Pass the following variable as a keyword arg: x. From version 0.12, the only valid positional argument will be `data`, and passing other arguments without an explicit keyword will result in an error or misinterpretation.\n",
      "  warnings.warn(\n"
     ]
    },
    {
     "data": {
      "image/png": "[encoded data removed]",
      "text/plain": [
       "<Figure size 360x360 with 4 Axes>"
      ]
     },
     "metadata": {
      "needs_background": "light"
     },
     "output_type": "display_data"
    }
   ],
   "source": [
    "import seaborn as sns\n",
    "fig, axs = plt.subplots(4, figsize = (5,5))\n",
    "plt1 = sns.boxplot(df['Active_Market_Wallets_cumsum'], ax = axs[0])\n",
    "plt2 = sns.boxplot(df['Primary_Sales_cumsum'], ax = axs[1])\n",
    "plt3 = sns.boxplot(df['Secondary_Sales_cumsum'], ax = axs[2])\n",
    "plt4 = sns.boxplot(df['AverageUSD_cum'], ax = axs[3])\n",
    "plt.tight_layout()"
   ]
  },
  {
   "cell_type": "code",
   "execution_count": 28,
   "metadata": {},
   "outputs": [],
   "source": [
    "#from sklearn.linear_model import LinearRegression\n",
    "#model = LinearRegression()\n",
    "#model.fit(x, y)\n",
    "#y_pred = model.predict(x_test)\n",
    "#confidence = model.score(x_test, y_test)\n",
    "#print(confidence)\n",
    "from sklearn.model_selection import train_test_split\n",
    "x_train,x_test,y_train,y_test=train_test_split(x,y,test_size=0.5,random_state=42)"
   ]
  },
  {
   "cell_type": "code",
   "execution_count": 31,
   "metadata": {},
   "outputs": [
    {
     "name": "stdout",
     "output_type": "stream",
     "text": [
      "[ 9.75059413e+00  1.00011849e+02  2.23417494e+02  4.73576150e+01\n",
      "  5.58479406e+01  4.49104126e+02  1.67388753e+02  8.95221066e+01\n",
      "  2.28021628e+01  7.47386245e+01  1.77903831e+01  6.01155225e+01\n",
      " -3.89537762e+01  7.08048304e+02  5.10592237e+00  4.72816676e+01\n",
      "  4.72500893e+01  1.42478315e+02  5.74980980e+01  6.50844993e+01\n",
      "  1.18597122e+02 -4.13875939e+00  5.02756467e+02  9.94889227e+01\n",
      "  4.72745354e+01  1.57446975e+01  3.06729208e+00 -5.00492606e+01\n",
      "  6.96808290e+01  8.25706831e+02  4.72870879e+01  5.41160037e+01\n",
      "  1.20190712e+02  1.70164360e+02  1.11819892e+02  3.63004754e+00\n",
      "  1.58026471e+01  8.78187483e+01  1.12488483e+02  1.97971170e+02\n",
      "  8.79490448e+01  2.01081920e+01 -5.84222349e-01  4.71937264e+01\n",
      "  5.95732497e+01  4.72791282e+01  5.14813020e+01  4.73162024e+01\n",
      " -4.00089260e+01  1.08928416e+02  3.63703211e+01  1.05639185e+02\n",
      "  6.86988254e+02  5.47968998e+01  6.84918518e+01  2.01098924e+02\n",
      "  9.16249776e+01  6.31574120e+01 -4.08807963e+00 -4.94909505e+01\n",
      "  1.16069905e+02  4.73063094e+01  1.05813917e+02  1.07589138e+02\n",
      " -3.72618570e+01  4.72756298e+01  1.70020018e+02  7.55232580e+01\n",
      " -3.45380969e+01 -1.04802966e+01  1.17597279e+02 -1.90695145e+01\n",
      "  1.15206359e+02  1.22880234e+02 -2.99634064e+01  1.14531921e+02\n",
      "  1.07233616e+02  5.62590076e+01  3.74137572e+01  4.91087064e+02\n",
      " -3.38965492e+01  7.76572303e+01  1.11270043e+02  1.14942804e+02\n",
      " -3.84761418e+01  1.04823912e+02  3.83601971e+01  6.52122766e+02\n",
      "  1.42619462e+02 -6.32201696e+00  1.81003076e+02  9.16627399e+02\n",
      "  5.38816549e+01  1.21442862e+02  6.03063670e+01 -3.60762113e+01\n",
      "  7.65996660e+01  4.72586594e+01  1.01229726e+02 -5.33161686e+01\n",
      "  4.73198314e+01  9.07746381e+00  7.03520734e+01  1.25318770e+01\n",
      "  6.86491686e+01  7.88146617e+01  6.96138056e+01  2.04101407e+02\n",
      " -3.02506513e+01  7.58235166e+00 -3.19717032e+01  5.66096945e+02\n",
      " -3.02202466e+01  1.66197765e+02 -3.09979769e+01 -3.65696500e+01\n",
      "  6.62824802e+01  4.73138748e+01  1.05513817e+02 -5.15010774e+01\n",
      " -4.04881439e+01  1.30705378e+02  3.73434103e+01  5.88385513e+02\n",
      " -3.66795691e+01  9.27692197e+01  5.96864062e+01  4.86239329e+01\n",
      "  4.73242595e+01  4.72904571e+01  1.14723999e+02 -1.57296569e+01\n",
      "  7.75759756e+01  7.52866753e+01  4.02307361e+01  7.30729293e+01\n",
      "  4.73198314e+01 -5.00890369e+01  1.07164904e+02  2.04436813e+02\n",
      "  1.16630152e+02 -3.66922938e+01 -5.24226774e+01  1.14189782e+02\n",
      "  4.73329468e+01  1.88270115e+02  4.73369582e+01  1.17258535e+02\n",
      "  1.15997635e+02  8.41622713e+00  1.85931209e+02  1.17536845e+02\n",
      "  7.76542425e+01  5.45870720e+01 -4.93396956e+01 -5.00373061e+01\n",
      "  7.65040322e+01  5.21775854e+02  1.16350059e+02  7.41488992e+01\n",
      "  1.69327123e+02 -4.05156718e+01  9.94646532e+01  3.55777763e+01\n",
      " -1.20399436e+01  1.11184252e+02  6.24115830e+01 -3.01520896e+01\n",
      "  9.70374128e+01 -3.54452162e+01  1.06478651e+02  1.07096802e+02\n",
      "  6.13265528e+00  5.30649955e+01  1.07160702e+02  5.42377478e+01\n",
      "  1.52032616e+02 -4.49918727e+01  6.11804275e+01  5.56474750e+02\n",
      "  6.73441224e+01  1.20111545e+02 -4.84576950e+01  7.21783733e+01\n",
      "  2.55797537e+02  1.03172373e+02  5.41177630e+01  1.15118909e+02\n",
      "  4.72743214e+01 -4.66688543e+01  2.01720492e+01  1.79692696e+02\n",
      " -6.45982338e+00  1.73156097e+02  4.75604318e+02  1.01028142e+02\n",
      "  5.37638565e+01 -3.87343143e+00  1.09171376e+02  4.73216170e+01\n",
      "  7.26752902e+01 -1.16328872e+01 -5.11182608e+01  1.73383625e+02\n",
      "  1.01889646e+02  1.35415459e+01  5.42841941e+01  6.36176554e+01\n",
      "  4.73106627e+01  2.33257505e+01  2.04129829e+02  1.16764735e+02\n",
      "  9.36719036e+01 -3.00942078e+01  9.98427462e+01 -7.89023513e+00\n",
      "  8.13217013e+01  4.71772118e+01  1.09596620e+02  1.66653458e+02\n",
      "  1.32574206e+00  9.33745328e+01  6.81703780e+01  1.14075102e+02\n",
      "  6.06339316e+01 -5.82502276e+00  8.51310552e+01 -5.02988379e+00\n",
      "  6.58441456e+02  1.07597823e+02  8.12342849e+01  2.93900977e+01\n",
      "  1.33962337e+02  3.26742719e+01  9.44289746e+01  5.67524716e+01\n",
      "  1.17354710e+02 -4.02989615e+01  2.20578422e+01 -4.44833962e+00\n",
      " -5.74197220e+00  1.02550643e+02  1.04180006e+02  1.06644460e+02\n",
      "  1.19730118e+02 -4.53218439e+00  8.47750621e+01  1.16196811e+02\n",
      "  4.72754770e+01  4.72888579e+01  7.57650850e+01  1.39776250e+01\n",
      "  4.57060167e+00  1.15377452e+02  7.27892458e+01  4.72506091e+01\n",
      "  4.73231271e+01  8.34346943e+01  4.73316688e+01 -1.44354244e+01\n",
      "  4.73119339e+01  3.18421568e+00  6.19479831e+01 -4.67528846e+00\n",
      "  2.59796251e+01 -5.22197155e+01  1.22917840e+02 -3.47421090e+01\n",
      "  1.22327877e+01  4.73343392e+01 -3.88756830e+01  7.57627962e+01\n",
      " -5.07696048e+01 -9.97636535e+00  1.09870005e+02 -5.60936496e+01\n",
      "  5.31695666e+01 -3.89297440e+01 -2.88323902e+00 -8.72826617e+00\n",
      "  2.01725395e+02  2.19591204e+02  1.23671247e+02  2.81486169e+01\n",
      " -3.06227816e+01  4.88675444e+01  1.06881376e+02  9.48722159e+01\n",
      "  8.09907468e+01  1.67002247e+02  5.29088026e+01  9.43826468e+01\n",
      " -4.85043656e+01  7.77410334e+01  9.73037720e+01  6.46308041e+01\n",
      "  2.35343846e+02 -3.34138342e+01  1.32860481e+02  9.16142143e+01\n",
      " -5.18831088e+00  4.72786517e+01 -4.04473525e+01  7.43301342e+01\n",
      "  1.04781741e+02  1.13686366e+02  1.06246250e+02 -5.27689953e+01\n",
      "  8.90188716e+02 -1.21767751e+01  7.94248172e+01  1.05519428e+00\n",
      "  7.35752943e+01  5.11203305e+01  1.03393173e+03  2.01042360e+02\n",
      "  5.01815962e+01  1.05917598e+02  1.74321638e+02  5.79925646e+02\n",
      "  2.08933884e+01 -3.16981062e+01  6.94737830e+01 -8.82154793e+00\n",
      "  4.95582563e+01 -3.80772394e+01  1.13737621e+02 -1.19733119e+01\n",
      "  1.65139700e+02 -4.18778127e+01 -4.25214048e+01 -3.99740315e+01\n",
      "  2.54202041e+01  1.89202547e+00  1.02367510e+02  1.16790632e+02\n",
      "  7.60538281e+01  1.19813967e+02  9.90859293e+01  1.18845757e+02\n",
      "  8.25910727e+01  1.60443586e+02  1.42332975e+02  5.02267135e+02\n",
      "  1.93774214e+01  1.04756081e+02  7.73371764e+01 -2.58245552e+01\n",
      "  2.04692223e+01  7.61180704e+01  4.72935007e+01  1.69037556e+02\n",
      " -3.54219248e+01  1.47315282e+01  6.96604869e+02  1.18548757e+02\n",
      "  1.72098391e+02  6.57064645e+01  1.15192919e+02  1.11767221e+02\n",
      "  9.87732117e+01  4.53708900e+01  7.38492391e+01  1.63431489e+02\n",
      "  1.16139823e+02  2.53014772e+01  5.26846272e+02  7.77671370e+01\n",
      "  1.04603422e+02  7.88118241e+01 -4.18754907e+01  1.77731210e+02\n",
      "  4.72954326e+01  3.65816959e+02  1.16164508e+02  1.34428742e+02\n",
      "  4.73142839e+01  1.92502529e+02  1.17581097e+02  1.73735833e+02\n",
      "  1.17579436e+02  1.69606299e+02  1.28864507e+02  6.12107852e+01\n",
      "  7.77789192e+01 -3.03237030e+01 -5.74142922e+01 -1.49196659e+01\n",
      "  7.23709538e+02  1.08279257e+02  4.26115247e+02  4.86291760e-01\n",
      "  8.48014472e+02  1.07410988e+02  7.77787733e+01  7.29008664e+02\n",
      "  4.87910759e+02  1.14110514e+02  1.45644148e+01 -3.60989498e+01\n",
      " -9.93965363e+00  1.02684804e+02 -3.93535036e+01 -5.36328332e+01\n",
      "  6.32167806e+01  8.12459121e+01  6.44098280e+01  1.00936441e+02\n",
      "  1.15292214e+02  1.83637536e+02 -3.20865668e+01 -9.56802592e+00\n",
      "  3.63864897e+00  1.66081308e+02  4.89734565e+01  5.72060267e+02\n",
      "  4.72952089e+01  1.14222334e+02  4.25720998e+02  6.76893604e+01\n",
      "  7.97304320e+01  7.36644925e+01  1.04015924e+03  6.85989617e+01\n",
      "  4.72765985e+01  1.04225251e+02  1.68872997e+02  5.78540829e+01\n",
      " -1.10796616e+01 -1.34495896e+01 -4.70718133e+01  7.90340975e+01\n",
      "  4.73571388e+01  1.60293546e+02 -1.93074899e+01  1.76748870e+02\n",
      " -4.10883351e+01  1.18325866e+02 -4.96655643e+00  3.17458168e+02\n",
      "  4.72285529e+01  6.25198770e+01  1.06194006e+02  7.50210878e+01\n",
      "  5.68366605e+01  8.29516721e+01  2.63349719e+01  1.20434057e+02\n",
      "  4.72432735e+01  1.51176851e+02  8.11448849e+01  4.72336038e+01\n",
      " -1.23407471e+01  1.59076740e+02  7.99621359e+01  1.20946621e+02\n",
      "  2.18617204e+01 -5.21203463e+01  6.24540614e+01  3.02709848e+01\n",
      "  9.96040879e+01  9.96052667e+01 -4.76630284e+00  6.96583403e+01\n",
      "  1.12400566e+02  4.73398891e+01  2.36525982e+01  5.97227771e+01\n",
      "  4.72935626e+01  9.67185421e+01 -3.99504948e+01  4.72592622e+01\n",
      "  3.00372297e+01  1.12291937e+02  5.65261786e+01  1.22852661e+02\n",
      "  1.13850377e+02  1.70525536e+01  1.00444307e+02  1.89937605e+01\n",
      "  1.17353951e+02  8.99077012e+02  9.91262641e-01  1.35385963e+02\n",
      "  1.02485826e+02  1.08684672e+02  7.04508689e+02 -4.26636157e+01\n",
      "  1.14758728e+02  9.92772295e+01  5.74203590e+01 -3.44179240e+01\n",
      "  4.82367145e+01  1.15720964e+02  1.17463349e+02  6.26124921e+01\n",
      "  1.03534452e+02  6.25132232e+02 -3.58114641e+01 -7.09107567e+00\n",
      " -3.77684711e+01  1.71189959e+02 -2.80732180e+01 -2.54639100e+01\n",
      "  1.16207267e+02  8.62005946e+01  1.03898879e+02  1.69991335e+02\n",
      " -3.74909164e+01  1.04392704e+02  9.90882063e+01  7.09822253e+01\n",
      "  6.86802418e+01  4.07628680e+02 -7.90091174e+00  6.70095843e+01\n",
      "  4.99996205e+01  5.69542371e+01  1.01322557e+02  1.30731935e+02\n",
      " -8.64759913e+00  1.00263119e+02  8.76009505e+01  1.79070765e+02\n",
      "  7.88520380e+01 -9.93386848e+00  4.19367802e+01  1.72687584e+02\n",
      "  1.04601840e+02  5.17144245e+01 -4.68196308e+01  4.73314009e+01\n",
      "  8.16797429e+00  1.07775530e+02  6.34584102e+01  1.18543314e+02\n",
      "  7.82699540e+01  4.73395498e+01  1.69469983e+02  1.59480122e+02\n",
      " -3.95464412e+01  1.20841831e+02  1.81871156e+02  2.08663976e+02\n",
      "  1.01772719e+02 -8.56908067e+00  4.71142074e+01 -5.31221578e+01\n",
      "  7.44089895e+01  8.06726354e+01  1.20317204e+02  1.15022191e+02\n",
      "  4.73285053e+01  6.54766800e+01  5.96091273e+01  5.37738663e+01\n",
      " -1.51837822e+01 -4.59988393e+01  1.00748715e+02 -5.13554581e+01\n",
      "  7.84032269e+00  4.93606533e+01 -2.50061544e+01  1.19453971e+01\n",
      "  9.89322961e+01  8.29403722e+01  1.21631170e+02 -3.46325128e+00\n",
      "  4.97841781e+01  4.73026173e+01  6.05538549e+02 -1.26769565e+01\n",
      "  5.26708571e+01  5.43909346e+01 -3.48057390e+01  2.84478469e+01\n",
      "  1.06307122e+02  1.11478689e+02  1.09672457e+02  5.51866387e+01\n",
      " -3.18615788e+01  1.40478944e+02  5.27435805e+01 -6.31422066e+00\n",
      "  1.67855957e+02  1.01272555e+02  1.57721935e+02  6.80320974e+02\n",
      " -2.31671142e+01  5.36309253e+02  1.00881808e+02  1.20577855e+02\n",
      "  4.39780940e+02 -4.47397742e+01  1.66417710e+02  7.20375387e+01\n",
      " -8.66370111e+00  9.44498507e+01  4.73150826e+01  4.72442651e+01\n",
      "  5.33416228e+02  4.73567659e+01 -5.17079382e+01  1.04661152e+02\n",
      "  8.01488865e+02  4.27842878e+02  1.02023717e+02  1.64931455e+02\n",
      "  8.80422305e+01  4.58841381e+02 -2.88036133e+01  6.18223007e+01\n",
      " -4.33019949e+00 -1.64741393e+01  5.60215668e+02 -4.19625808e+01\n",
      "  1.00397900e+02  1.06018237e+02 -2.73593664e+01  3.89683741e+01\n",
      "  5.13233675e+01  6.25006648e+01  1.67777992e+02  1.65200089e+02\n",
      "  1.02718138e+02  1.91116138e+02 -2.75642176e+01  2.33403152e+02\n",
      "  1.91200191e+02  6.52142522e+01  1.70127194e+02  6.93629831e+01\n",
      "  1.18020975e+02  1.04838097e+02  1.94947278e+02  4.72191196e+01\n",
      "  2.54637095e+02  8.76430925e+01  4.42858978e+01  8.16388389e+01\n",
      "  9.57417221e+00  4.73560891e+01  1.20194848e+01  1.93861837e+02\n",
      "  6.72810422e+01 -3.27384771e+01 -7.32378475e+00  4.73362487e+01\n",
      "  1.55760692e+02  1.10612160e+02  7.70785514e+01 -3.77153943e+01\n",
      "  5.17905411e+01  6.36895691e+01 -4.17729031e+01  7.66031136e+01\n",
      "  1.47779874e+02 -4.78983587e+01  1.22021549e+02  2.10089923e+02\n",
      "  9.25394083e+01  1.13017688e+02 -4.15563564e+00  2.03803096e+01\n",
      " -5.59346608e+00  6.08115005e+01  1.61850841e+02  4.71156257e+01\n",
      "  1.05279595e+02  2.86573073e+01  6.59348223e+01  4.72174747e+01\n",
      "  8.03533556e+01  1.71126931e+01  8.68284618e+00  4.72622574e+01\n",
      "  7.92460083e+00  8.77546584e+01  4.73356264e+01  2.04070314e+02\n",
      "  1.20309117e+02  1.02307113e+03 -5.57512820e+01  1.16449163e+03\n",
      "  1.69523241e+02 -5.03253531e+01  1.69839761e+02 -5.78722263e+00\n",
      "  6.93130966e+02 -1.62891333e+01 -3.32977001e+00  2.30484776e+02\n",
      "  5.09990475e+01  6.72674945e+01  5.48370739e+01  6.71327143e+01\n",
      "  3.59144663e+01 -3.33730044e+01  5.20003457e+00  1.13651838e+02\n",
      "  5.17568743e+01 -5.25207864e+00 -1.13010760e+01  5.87926966e+01\n",
      " -4.86144337e+01 -2.67319985e+01  1.15231418e+02  1.97315802e+02\n",
      "  7.77450939e+01 -5.08818309e+01  2.84196509e+01  1.12777195e+02\n",
      " -4.29135127e+01  4.72803382e+01  5.28573829e+01 -1.02192104e+01\n",
      "  4.72109074e+01  8.13161533e+01  1.19594903e+02  1.97816761e+02\n",
      "  9.58626178e-01 -5.11953396e+01  1.18624040e+02  4.72935626e+01\n",
      "  1.61814992e+02  7.89662692e+01  1.65821401e+02  1.07337374e+02\n",
      "  1.72117660e+02  1.65992815e+02 -1.31815653e+01  1.07180814e+02\n",
      "  2.31758962e+02  1.57297912e+01  7.75890568e+01 -5.21337762e+01\n",
      "  6.15571027e+01 -1.02787040e+01  4.72293935e+01  4.70543909e+01\n",
      "  9.02743566e+01  1.07973208e+02  1.05927433e+02 -2.60510520e+01\n",
      "  6.34103213e+01  9.35407136e+02  8.01922470e+01  1.09085317e+02\n",
      "  4.72362489e+01  1.89419685e+02  8.28462686e+01  1.90045876e+02\n",
      " -3.59795172e+01 -1.30733913e+01 -5.40110306e+01 -3.88546549e+01\n",
      " -3.39435022e+01  5.17488612e+01 -7.38788679e+00  8.23903154e+02\n",
      "  8.30043421e+01  4.71985908e+01  6.86335668e+01 -2.97833828e+00\n",
      "  4.72981484e+01  4.73119339e+01  6.10736455e+01  4.72748485e+01\n",
      "  5.48399643e+01  8.11302353e+01  4.73390879e+01  8.67140938e+01\n",
      "  1.77675027e+02  4.73108225e+01  4.58170043e+02 -2.71309999e+01\n",
      " -5.25419123e+01  4.72515861e+01  1.79584055e+02  1.42946266e+01\n",
      "  8.13629613e+01  1.68328516e+00  8.06449165e+01  1.73092097e+00\n",
      "  1.02359128e+01  1.15850733e+02 -1.04115055e+01  3.52512890e+01\n",
      "  2.91598188e+01 -4.27624687e+01  1.83506634e+02  1.14189286e+02\n",
      "  1.13868091e+02  4.73062417e+01  2.24467634e+02  4.73018678e+01\n",
      " -2.54964988e+01 -4.23072888e+01  9.12919074e+01  7.76860330e+01\n",
      " -3.34592580e+01  5.90164937e+01  1.15025225e+01]\n",
      "Acuuracy of the model:   -1.0260191418952598\n"
     ]
    }
   ],
   "source": [
    "from sklearn.linear_model import LinearRegression\n",
    "regressor = LinearRegression()\n",
    "regressor = regressor.fit(x_train, y_train)\n",
    "y_pred = regressor.predict(x_test)\n",
    "print(y_pred)\n",
    "confidence = regressor.score(x_train,y_pred)\n",
    "print(\"Acuuracy of the model:  \",confidence)"
   ]
  },
  {
   "cell_type": "code",
   "execution_count": 32,
   "metadata": {},
   "outputs": [
    {
     "data": {
      "text/plain": [
       "array([[   0.        ,    0.        ,    0.        ,    0.        ,\n",
       "           0.        ,    0.        ,    0.        ,  502.87539136,\n",
       "           0.        ],\n",
       "       [1020.3       ,   19.        ,    8.        ,    0.        ,\n",
       "          19.        , 1020.3       ,   19.        ,    8.        ,\n",
       "           0.        ],\n",
       "       [2261.14      ,   40.        ,   21.        ,    0.        ,\n",
       "          21.        , 1240.84      ,   21.        ,   13.        ,\n",
       "           0.        ],\n",
       "       [2778.69      ,   53.        ,   28.        ,    0.        ,\n",
       "          13.        ,  517.55      ,   13.        ,    7.        ,\n",
       "           0.        ],\n",
       "       [3203.32      ,   67.        ,   34.        ,    0.        ,\n",
       "          14.        ,  424.63      ,   14.        ,    6.        ,\n",
       "           0.        ]])"
      ]
     },
     "execution_count": 32,
     "metadata": {},
     "output_type": "execute_result"
    }
   ],
   "source": [
    "X = df.drop(['AverageUSD_cum','Date'],axis=1).values\n",
    "X[0:5]"
   ]
  },
  {
   "cell_type": "code",
   "execution_count": 33,
   "metadata": {},
   "outputs": [],
   "source": [
    "Y = df['AverageUSD_cum'].values"
   ]
  },
  {
   "cell_type": "code",
   "execution_count": 36,
   "metadata": {},
   "outputs": [],
   "source": [
    "from sklearn.model_selection import train_test_split\n",
    "X_train, X_test, Y_train, Y_test = train_test_split(X, Y, test_size=0.3, random_state=1)"
   ]
  },
  {
   "cell_type": "code",
   "execution_count": 38,
   "metadata": {},
   "outputs": [
    {
     "data": {
      "text/plain": [
       "LinearRegression()"
      ]
     },
     "execution_count": 38,
     "metadata": {},
     "output_type": "execute_result"
    }
   ],
   "source": [
    "regressor = LinearRegression()\n",
    "regressor.fit(X_train, Y_train)"
   ]
  },
  {
   "cell_type": "code",
   "execution_count": 40,
   "metadata": {},
   "outputs": [
    {
     "data": {
      "text/plain": [
       "array([ 39.29516599,  20.18992732,  31.68471214,  48.0839771 ,\n",
       "        25.43790456, 646.34956689, 118.75525   ,  42.56130434,\n",
       "        69.46549542,  35.33582055, 121.57233165,  40.50819454,\n",
       "        29.92785325,  32.59788236, 682.73126896,  34.1982961 ,\n",
       "       911.37671386,  67.99818673,  31.15291224,  60.7089928 ])"
      ]
     },
     "execution_count": 40,
     "metadata": {},
     "output_type": "execute_result"
    }
   ],
   "source": [
    "Y_predict = regressor.predict(X_test)\n",
    "Y_predict[0:20]"
   ]
  },
  {
   "cell_type": "code",
   "execution_count": 43,
   "metadata": {},
   "outputs": [
    {
     "data": {
      "text/plain": [
       "0.9675095771486381"
      ]
     },
     "execution_count": 43,
     "metadata": {},
     "output_type": "execute_result"
    }
   ],
   "source": [
    "from sklearn.metrics import r2_score\n",
    "r2_score(Y_predict, Y_test)"
   ]
  },
  {
   "cell_type": "code",
   "execution_count": 45,
   "metadata": {},
   "outputs": [
    {
     "data": {
      "text/plain": [
       "0.9701773034691825"
      ]
     },
     "execution_count": 45,
     "metadata": {},
     "output_type": "execute_result"
    }
   ],
   "source": [
    "score = regressor.score(x_test, y_test) \n",
    "score"
   ]
  },
  {
   "cell_type": "code",
   "execution_count": null,
   "metadata": {},
   "outputs": [],
   "source": []
  }
 ],
 "metadata": {
  "kernelspec": {
   "display_name": "Python 3.9",
   "language": "python",
   "name": "python3"
  },
  "language_info": {
   "codemirror_mode": {
    "name": "ipython",
    "version": 3
   },
   "file_extension": ".py",
   "mimetype": "text/x-python",
   "name": "python",
   "nbconvert_exporter": "python",
   "pygments_lexer": "ipython3",
   "version": "3.9.12"
  }
 },
 "nbformat": 4,
 "nbformat_minor": 1
}
